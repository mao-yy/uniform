{
 "cells": [
  {
   "cell_type": "code",
   "execution_count": 10,
   "metadata": {},
   "outputs": [],
   "source": [
    "import pandas as pd\n",
    "import json\n",
    "import os"
   ]
  },
  {
   "cell_type": "code",
   "execution_count": 2,
   "metadata": {},
   "outputs": [],
   "source": [
    "from sklearn.metrics import average_precision_score\n",
    "from sklearn.metrics import confusion_matrix, precision_score,accuracy_score,recall_score, f1_score,roc_auc_score\n",
    "import  torch.nn.functional as F\n",
    "import numpy as np"
   ]
  },
  {
   "cell_type": "code",
   "execution_count": 11,
   "metadata": {},
   "outputs": [],
   "source": [
    "from sklearn.model_selection import train_test_split"
   ]
  },
  {
   "cell_type": "code",
   "execution_count": 3,
   "metadata": {},
   "outputs": [],
   "source": [
    "pred=np.random.rand(3,4)"
   ]
  },
  {
   "cell_type": "code",
   "execution_count": 5,
   "metadata": {},
   "outputs": [],
   "source": [
    "label=np.zeros(shape=[3,4])"
   ]
  },
  {
   "cell_type": "code",
   "execution_count": 27,
   "metadata": {},
   "outputs": [],
   "source": [
    "path=\"./data_list/BDI/new_cand_csv/test.csv\""
   ]
  },
  {
   "cell_type": "code",
   "execution_count": 4,
   "metadata": {},
   "outputs": [],
   "source": [
    "train=pd.read_csv(path)"
   ]
  },
  {
   "cell_type": "code",
   "execution_count": 28,
   "metadata": {},
   "outputs": [],
   "source": [
    "test=pd.read_csv(path)"
   ]
  },
  {
   "cell_type": "code",
   "execution_count": 7,
   "metadata": {},
   "outputs": [],
   "source": [
    "train=train.append(test)"
   ]
  },
  {
   "cell_type": "code",
   "execution_count": 12,
   "metadata": {},
   "outputs": [],
   "source": [
    "X_train,y_train=train_test_split(train,test_size=0.2)"
   ]
  },
  {
   "cell_type": "code",
   "execution_count": 18,
   "metadata": {},
   "outputs": [],
   "source": [
    "y_train.to_csv(path)"
   ]
  },
  {
   "cell_type": "code",
   "execution_count": 19,
   "metadata": {},
   "outputs": [
    {
     "data": {
      "text/plain": [
       "1780"
      ]
     },
     "execution_count": 19,
     "metadata": {},
     "output_type": "execute_result"
    }
   ],
   "source": [
    "len(train)"
   ]
  },
  {
   "cell_type": "code",
   "execution_count": 11,
   "metadata": {},
   "outputs": [
    {
     "data": {
      "text/plain": [
       "set()"
      ]
     },
     "execution_count": 11,
     "metadata": {},
     "output_type": "execute_result"
    }
   ],
   "source": [
    "set(test)&set(train)"
   ]
  },
  {
   "cell_type": "code",
   "execution_count": 20,
   "metadata": {},
   "outputs": [],
   "source": [
    "path=\"/mnt/ssd/maoyy/code/Maoyy/home/virtualhome-master/src/virtualhome/dataset/dataset_3/dataset_3.csv\""
   ]
  },
  {
   "cell_type": "code",
   "execution_count": 21,
   "metadata": {},
   "outputs": [],
   "source": [
    "data3=pd.read_csv(path)"
   ]
  },
  {
   "cell_type": "code",
   "execution_count": 23,
   "metadata": {},
   "outputs": [],
   "source": [
    "from collections import Counter"
   ]
  },
  {
   "cell_type": "code",
   "execution_count": 36,
   "metadata": {},
   "outputs": [],
   "source": [
    "train_path=set(train.path)-set(test.path)"
   ]
  },
  {
   "cell_type": "code",
   "execution_count": 38,
   "metadata": {},
   "outputs": [],
   "source": [
    "train[train.path.isin(train_path)].to_csv(\"train_dataset3.csv\")"
   ]
  },
  {
   "cell_type": "code",
   "execution_count": 26,
   "metadata": {},
   "outputs": [
    {
     "data": {
      "text/plain": [
       "Counter({4: 286,\n",
       "         9: 163,\n",
       "         6: 153,\n",
       "         0: 238,\n",
       "         3: 139,\n",
       "         2: 113,\n",
       "         1: 177,\n",
       "         7: 264,\n",
       "         5: 121,\n",
       "         8: 126})"
      ]
     },
     "execution_count": 26,
     "metadata": {},
     "output_type": "execute_result"
    }
   ],
   "source": [
    "Counter(train.label)"
   ]
  },
  {
   "cell_type": "code",
   "execution_count": 21,
   "metadata": {},
   "outputs": [],
   "source": [
    "train=[n[22:] for n in train]"
   ]
  },
  {
   "cell_type": "code",
   "execution_count": null,
   "metadata": {},
   "outputs": [],
   "source": []
  },
  {
   "cell_type": "code",
   "execution_count": null,
   "metadata": {},
   "outputs": [],
   "source": []
  },
  {
   "cell_type": "code",
   "execution_count": 35,
   "metadata": {},
   "outputs": [],
   "source": [
    "data3=[n[10:] for n in data3.relate_path]"
   ]
  },
  {
   "cell_type": "code",
   "execution_count": 3,
   "metadata": {},
   "outputs": [],
   "source": [
    "data=pd.read_pickle(\"./..noise_all/32x256x1x1.pkl\")\n",
    "pred=data[\"video_preds\"]\n",
    "label=data[\"video_labels\"]\n",
    "pred=pred.argmax(1)\n",
    "\n",
    "np.sum(pred==label)"
   ]
  },
  {
   "cell_type": "code",
   "execution_count": 40,
   "metadata": {},
   "outputs": [],
   "source": [
    "src_data=pd.read_csv(\"/mnt/ssd/maoyy/code/Maoyy/home/virtualhome-master/src/virtualhome/dataset/dataset_handler/all_data_1207/val.csv\")"
   ]
  },
  {
   "cell_type": "code",
   "execution_count": 41,
   "metadata": {},
   "outputs": [
    {
     "data": {
      "text/plain": [
       "314"
      ]
     },
     "execution_count": 41,
     "metadata": {},
     "output_type": "execute_result"
    }
   ],
   "source": [
    "len(src_data)"
   ]
  },
  {
   "cell_type": "code",
   "execution_count": 1,
   "metadata": {},
   "outputs": [],
   "source": [
    "d2id={\n",
    "    \"clean_bathroom\": 0,\n",
    "    \"clean_bedroom\": 1,\n",
    "    \"clean_kitchen\": 2,\n",
    "    \"cook_bread\": 9,\n",
    "    \"cook_microwave\": 3,\n",
    "    \"cook_stove\": 3,\n",
    "    \"play_bedroom\": 4,\n",
    "    \"play_livingroom\": 4,\n",
    "    \"read_livingroom\": 5,\n",
    "    \"sleep\": 6,\n",
    "    \"wash_bathroom\": 7,\n",
    "    \"watch_livingroom\": 8\n",
    "}"
   ]
  },
  {
   "cell_type": "code",
   "execution_count": 46,
   "metadata": {},
   "outputs": [],
   "source": [
    "a=src_data[\"label\"]"
   ]
  },
  {
   "cell_type": "code",
   "execution_count": 19,
   "metadata": {},
   "outputs": [],
   "source": [
    "path_list=[]"
   ]
  },
  {
   "cell_type": "code",
   "execution_count": 20,
   "metadata": {},
   "outputs": [],
   "source": [
    "label=[]"
   ]
  },
  {
   "cell_type": "code",
   "execution_count": 21,
   "metadata": {},
   "outputs": [],
   "source": [
    "path=\"/mnt/ssd/maoyy/code/Maoyy/home/virtualhome-master/src/virtualhome/dataset/video_output_wo_noise\"\n",
    "tasks=os.listdir(path)\n",
    "for t in tasks:\n",
    "    if t.endswith(\"csv\"):\n",
    "        continue\n",
    "    video_file=os.listdir(os.path.join(path,t))\n",
    "    for v in video_file:\n",
    "        \n",
    "        path_to_vid=os.path.join(path,t,v)\n",
    "        \n",
    "        video_path=os.path.join(path,t,v,\"output1.mp4\")\n",
    "        # commd=\"ffmpeg -r 10 -f image2 -i {}/fastshot/%d.png {}/output1.mp4 -y  -loglevel quiet\".format(path_to_vid,path_to_vid)\n",
    "        # print(commd)\n",
    "        path_list.append(video_path)\n",
    "        fastshot_path\n",
    "        label.append(d2id[t])\n",
    "        "
   ]
  },
  {
   "cell_type": "code",
   "execution_count": 22,
   "metadata": {},
   "outputs": [],
   "source": [
    "all_data=pd.DataFrame(data={\"path\":path_list,\"label\":label})"
   ]
  },
  {
   "cell_type": "code",
   "execution_count": 27,
   "metadata": {},
   "outputs": [],
   "source": [
    "data=pd.read_csv(\"/mnt/ssd/maoyy/code/Maoyy/home/virtualhome-master/src/virtualhome/dataset/dataset_3/dataset_3.csv\")"
   ]
  },
  {
   "cell_type": "code",
   "execution_count": 33,
   "metadata": {},
   "outputs": [
    {
     "data": {
      "text/plain": [
       "Index(['relate_path', 'script_len', 'label', 'desire_question', 'desire',\n",
       "       'intentions_question', 'intentions', 'is_false_belief_test',\n",
       "       'fastshot_video', 'is_noise', 'is_desire_noise', 'is_intention_noise',\n",
       "       'is_task_noise', 'ignore', 'video_file'],\n",
       "      dtype='object')"
      ]
     },
     "execution_count": 33,
     "metadata": {},
     "output_type": "execute_result"
    }
   ],
   "source": [
    "data.columns"
   ]
  },
  {
   "cell_type": "code",
   "execution_count": 47,
   "metadata": {},
   "outputs": [],
   "source": [
    "video_path=[]"
   ]
  },
  {
   "cell_type": "code",
   "execution_count": 86,
   "metadata": {},
   "outputs": [],
   "source": [
    "for  i in data.index:\n",
    "    item=data.loc[i]\n",
    "    # print(item)\n",
    "    fastshot_video2=item.fastshot_video\n",
    "    relate_path=item.relate_path\n",
    "    relate_path=relate_path.split(\"/\")\n",
    "    new_path=relate_path[1:]\n",
    "    new_path=\"{}/{}/output1.mp4\".format(new_path[0],new_path[1]+new_path[2])\n",
    "    if new_path in list(test.path):\n",
    "        video_path.append(fastshot_video2)\n",
    "        test.loc[new_path,\"fastshot_video\"]=fastshot_video2\n",
    "        test.loc[new_path,\"new_label\"]=item.label\n",
    "    \n",
    "        \n"
   ]
  },
  {
   "cell_type": "code",
   "execution_count": 98,
   "metadata": {},
   "outputs": [
    {
     "data": {
      "text/html": [
       "<div>\n",
       "<style scoped>\n",
       "    .dataframe tbody tr th:only-of-type {\n",
       "        vertical-align: middle;\n",
       "    }\n",
       "\n",
       "    .dataframe tbody tr th {\n",
       "        vertical-align: top;\n",
       "    }\n",
       "\n",
       "    .dataframe thead th {\n",
       "        text-align: right;\n",
       "    }\n",
       "</style>\n",
       "<table border=\"1\" class=\"dataframe\">\n",
       "  <thead>\n",
       "    <tr style=\"text-align: right;\">\n",
       "      <th></th>\n",
       "      <th>label</th>\n",
       "    </tr>\n",
       "    <tr>\n",
       "      <th>path</th>\n",
       "      <th></th>\n",
       "    </tr>\n",
       "  </thead>\n",
       "  <tbody>\n",
       "    <tr>\n",
       "      <th>cook_bread/scence_5seed_107/output1.mp4</th>\n",
       "      <td>9</td>\n",
       "    </tr>\n",
       "    <tr>\n",
       "      <th>clean_bathroom/scence_6seed_204/output1.mp4</th>\n",
       "      <td>0</td>\n",
       "    </tr>\n",
       "    <tr>\n",
       "      <th>wash_bathroom/scence_18seed_103/output1.mp4</th>\n",
       "      <td>7</td>\n",
       "    </tr>\n",
       "    <tr>\n",
       "      <th>read_livingroom/scence_16seed_212/output1.mp4</th>\n",
       "      <td>5</td>\n",
       "    </tr>\n",
       "    <tr>\n",
       "      <th>wash_bathroom/scence_19seed_200/output1.mp4</th>\n",
       "      <td>7</td>\n",
       "    </tr>\n",
       "    <tr>\n",
       "      <th>...</th>\n",
       "      <td>...</td>\n",
       "    </tr>\n",
       "    <tr>\n",
       "      <th>cook_bread/scence_19seed_205/output1.mp4</th>\n",
       "      <td>9</td>\n",
       "    </tr>\n",
       "    <tr>\n",
       "      <th>sleep/scence_4seed_103/output1.mp4</th>\n",
       "      <td>6</td>\n",
       "    </tr>\n",
       "    <tr>\n",
       "      <th>sleep/scence_20seed_107/output1.mp4</th>\n",
       "      <td>6</td>\n",
       "    </tr>\n",
       "    <tr>\n",
       "      <th>clean_bedroom/scence_9seed_102/output1.mp4</th>\n",
       "      <td>1</td>\n",
       "    </tr>\n",
       "    <tr>\n",
       "      <th>wash_bathroom/scence_14seed_105/output1.mp4</th>\n",
       "      <td>7</td>\n",
       "    </tr>\n",
       "  </tbody>\n",
       "</table>\n",
       "<p>179 rows × 1 columns</p>\n",
       "</div>"
      ],
      "text/plain": [
       "                                               label\n",
       "path                                                \n",
       "cook_bread/scence_5seed_107/output1.mp4            9\n",
       "clean_bathroom/scence_6seed_204/output1.mp4        0\n",
       "wash_bathroom/scence_18seed_103/output1.mp4        7\n",
       "read_livingroom/scence_16seed_212/output1.mp4      5\n",
       "wash_bathroom/scence_19seed_200/output1.mp4        7\n",
       "...                                              ...\n",
       "cook_bread/scence_19seed_205/output1.mp4           9\n",
       "sleep/scence_4seed_103/output1.mp4                 6\n",
       "sleep/scence_20seed_107/output1.mp4                6\n",
       "clean_bedroom/scence_9seed_102/output1.mp4         1\n",
       "wash_bathroom/scence_14seed_105/output1.mp4        7\n",
       "\n",
       "[179 rows x 1 columns]"
      ]
     },
     "execution_count": 98,
     "metadata": {},
     "output_type": "execute_result"
    }
   ],
   "source": []
  },
  {
   "cell_type": "code",
   "execution_count": 80,
   "metadata": {},
   "outputs": [],
   "source": [
    "for i in test.index:\n",
    "    test.loc[i,\"path\"]=test.loc[i,\"path\"][2:]"
   ]
  },
  {
   "cell_type": "code",
   "execution_count": 85,
   "metadata": {},
   "outputs": [
    {
     "data": {
      "text/plain": [
       "610           cook_bread/scence_5seed_107/output1.mp4\n",
       "822       clean_bathroom/scence_6seed_204/output1.mp4\n",
       "27        wash_bathroom/scence_18seed_103/output1.mp4\n",
       "330     read_livingroom/scence_16seed_212/output1.mp4\n",
       "35        wash_bathroom/scence_19seed_200/output1.mp4\n",
       "                            ...                      \n",
       "606          cook_bread/scence_19seed_205/output1.mp4\n",
       "1210               sleep/scence_4seed_103/output1.mp4\n",
       "1247              sleep/scence_20seed_107/output1.mp4\n",
       "1541       clean_bedroom/scence_9seed_102/output1.mp4\n",
       "260       wash_bathroom/scence_14seed_105/output1.mp4\n",
       "Name: path, Length: 179, dtype: object"
      ]
     },
     "execution_count": 85,
     "metadata": {},
     "output_type": "execute_result"
    }
   ],
   "source": [
    "test.path"
   ]
  },
  {
   "cell_type": "code",
   "execution_count": 53,
   "metadata": {},
   "outputs": [
    {
     "data": {
      "text/plain": [
       "'/mnt/ssd/maoyy/code/Maoyy/home/virtualhome-master/src/virtualhome/dataset/video_output_wo_noise/cook_bread/scence_5seed_107/output1.mp4'"
      ]
     },
     "execution_count": 53,
     "metadata": {},
     "output_type": "execute_result"
    }
   ],
   "source": [
    "test.iloc[0].path"
   ]
  },
  {
   "cell_type": "code",
   "execution_count": 24,
   "metadata": {},
   "outputs": [],
   "source": [
    "train,test=train_test_split(all_data,test_size=0.1)"
   ]
  },
  {
   "cell_type": "code",
   "execution_count": 25,
   "metadata": {},
   "outputs": [],
   "source": [
    "train.to_csv(\"./data_list/BDI/wo_noise/train.csv\")"
   ]
  },
  {
   "cell_type": "code",
   "execution_count": 26,
   "metadata": {},
   "outputs": [],
   "source": [
    "test.to_csv(\"./data_list/BDI/wo_noise/val.csv\")"
   ]
  },
  {
   "cell_type": "code",
   "execution_count": 18,
   "metadata": {},
   "outputs": [],
   "source": [
    "test_list=pd.read_csv(\"data_list/k400/train.csv\")"
   ]
  },
  {
   "cell_type": "code",
   "execution_count": 15,
   "metadata": {},
   "outputs": [],
   "source": [
    "test=list(test_list[\"-3B32lodo2M.mp4\"])"
   ]
  },
  {
   "cell_type": "code",
   "execution_count": 11,
   "metadata": {},
   "outputs": [],
   "source": [
    "path=\"./data_list/k400/test/\"\n",
    "video_file=os.listdir(path)\n"
   ]
  },
  {
   "cell_type": "code",
   "execution_count": 16,
   "metadata": {},
   "outputs": [],
   "source": [
    "kk=0\n",
    "for i in video_file:\n",
    "    if i not in test:\n",
    "        kk+=1"
   ]
  },
  {
   "cell_type": "code",
   "execution_count": 17,
   "metadata": {},
   "outputs": [
    {
     "data": {
      "text/plain": [
       "120"
      ]
     },
     "execution_count": 17,
     "metadata": {},
     "output_type": "execute_result"
    }
   ],
   "source": [
    "kk"
   ]
  },
  {
   "cell_type": "code",
   "execution_count": 16,
   "metadata": {},
   "outputs": [],
   "source": [
    "tasks.sort()"
   ]
  },
  {
   "cell_type": "code",
   "execution_count": 78,
   "metadata": {},
   "outputs": [],
   "source": [
    "\n",
    "task2id=dict()\n",
    "\n",
    "for i,t in enumerate(tasks):\n",
    "    task2id[t]=i"
   ]
  },
  {
   "cell_type": "code",
   "execution_count": 79,
   "metadata": {},
   "outputs": [],
   "source": [
    "task2id[\"play_livingroom\"]=task2id[\"play_bedroom\"]\n",
    "task2id[\"cook_microwave\"]=task2id[\"cook_bread\"]\n",
    "task2id[\"cook_microwave\"]=task2id[\"cook_stove\"]"
   ]
  },
  {
   "cell_type": "code",
   "execution_count": 4,
   "metadata": {},
   "outputs": [],
   "source": [
    "task2id={'clean_bathroom': 0,\n",
    " 'clean_bedroom': 1,\n",
    " 'clean_kitchen': 2,\n",
    " 'cook_bread': 3,\n",
    " 'cook_microwave': 3,\n",
    " 'cook_stove': 3,\n",
    " 'play_bedroom': 4,\n",
    " 'play_livingroom': 4,\n",
    " 'read_livingroom': 5,\n",
    " 'sleep': 6,\n",
    " 'wash_bathroom': 7,\n",
    " 'watch_livingroom': 8}\n",
    "# all_intention_label=set(\n",
    "r1=[]\n",
    "r2=[]\n",
    "# path=\"/mnt/ssd/maoyy/code/Maoyy/home/virtualhome-master/src/virtualhome/bdi_data_generate/new_dataset\"\n",
    "tasks=os.listdir(path)\n",
    "for t in tasks:\n",
    "    # if t!=\"clean_kitchen\":\n",
    "    #     continue\n",
    "    video_file=os.listdir(os.path.join(path,t))\n",
    "    for v in video_file:\n",
    "        pp=os.path.join(path,t,v,\"fastshot\")\n",
    "        r1.append(pp)\n",
    "        r2.append(task2id[t])\n",
    "# from sklearn.model_selection import train_test_split  \n",
    "# X_train, X_test, y_train, y_test = train_test_split(r1, r2, test_size=0.9, random_state=42)\n",
    "# train_data=pd.DataFrame(data={\"data_path\":X_train,\"lable\":y_train})\n",
    "# # test_data=pd.DataFrame(data={\"data_path\":X_test,\"lable\":y_test})\n",
    "\n",
    "    \n",
    "# test_data=pd.DataFrame(data={\"data_path\":X_test,\"lable\":y_test})\n",
    "# # test_data=pd.DataFrame(data={\"data_path\":X_test,\"lable\":y_test})\n",
    "\n",
    "# train_data.to_csv(\"./train_new.csv\")\n",
    "# test_data.to_csv(\"./test_new.csv\")\n",
    "# # with open(\"all_desire.json\",\"w\") as f:\n",
    "# #     json.dump(task2id,f)"
   ]
  },
  {
   "cell_type": "code",
   "execution_count": 7,
   "metadata": {},
   "outputs": [],
   "source": [
    "test_data=pd.DataFrame(data={\"data_path\":r1,\"lable\":r2})\n",
    "# test_data=pd.DataFrame(data={\"data_path\":X_test,\"lable\":y_test})\n",
    "\n",
    "test_data.to_csv(\"./test2.csv\")"
   ]
  },
  {
   "cell_type": "code",
   "execution_count": 5,
   "metadata": {},
   "outputs": [],
   "source": [
    "\n"
   ]
  },
  {
   "cell_type": "code",
   "execution_count": 13,
   "metadata": {},
   "outputs": [],
   "source": [
    "all_intention_label=set()\n",
    "path=\"/mnt/ssd/maoyy/code/Maoyy/home/virtualhome-master/src/virtualhome/bdi_data_generate/new_dataset\"\n",
    "tasks=os.listdir(path)\n",
    "for t in tasks:\n",
    "    video_file=os.listdir(os.path.join(path,t))\n",
    "    for v in video_file:\n",
    "        pp=os.path.join(path,t,v,\"script.json\")\n",
    "        with open(pp) as f:\n",
    "            pp=json.load(f)\n",
    "        intentions_q=pp[\"label\"][\"intentions\"]\n",
    "        intentions=intentions_q.split(\"?\")[-1].replace(\" \",\"\").split(\",\")\n",
    "        all_intention_label=all_intention_label|set(intentions)\n",
    "all_intention_label=list(all_intention_label)\n",
    "all_dict=dict()\n",
    "for i,inten in enumerate(all_intention_label[1:]):\n",
    "    all_dict[inten]=i\n",
    "len(all_dict)\n",
    "with open(\"./all_intention.json\",\"w\") as f:\n",
    "    json.dump(all_dict,f)"
   ]
  },
  {
   "cell_type": "code",
   "execution_count": 21,
   "metadata": {},
   "outputs": [],
   "source": [
    "import numpy as np\n",
    "p=[]\n",
    "label=[]\n",
    "path=\"/mnt/ssd/maoyy/code/Maoyy/home/virtualhome-master/src/virtualhome/bdi_data_generate/new_dataset\"\n",
    "tasks=os.listdir(path)\n",
    "with open(\"./all_intention.json\") as f:\n",
    "    all_dict=json.load(f)\n",
    "for t in tasks:\n",
    "    \n",
    "    video_file=os.listdir(os.path.join(path,t))\n",
    "    for v in video_file:\n",
    "        pp=os.path.join(path,t,v,\"script.json\")\n",
    "        with open(pp) as f:\n",
    "            pp=json.load(f)\n",
    "        intentions_q=pp[\"label\"][\"intentions\"]\n",
    "        intentions=intentions_q.split(\"?\")[-1].replace(\" \",\"\").split(\",\")\n",
    "        lable_0=np.zeros(len(all_dict))\n",
    "        video_path=os.path.join(path,t,v,\"fastshot\")\n",
    "        for i in intentions:\n",
    "            if i in all_dict:\n",
    "                lable_0[all_dict[i]]=1\n",
    "        label.append(lable_0)\n",
    "        p.append(video_path)"
   ]
  },
  {
   "cell_type": "code",
   "execution_count": 22,
   "metadata": {},
   "outputs": [
    {
     "ename": "NameError",
     "evalue": "name 'X_test' is not defined",
     "output_type": "error",
     "traceback": [
      "\u001b[0;31m---------------------------------------------------------------------------\u001b[0m",
      "\u001b[0;31mNameError\u001b[0m                                 Traceback (most recent call last)",
      "\u001b[0;32m/tmp/ipykernel_25262/2503511157.py\u001b[0m in \u001b[0;36m<module>\u001b[0;34m\u001b[0m\n\u001b[1;32m     19\u001b[0m \u001b[0mtrain_data\u001b[0m\u001b[0;34m.\u001b[0m\u001b[0mto_csv\u001b[0m\u001b[0;34m(\u001b[0m\u001b[0;34m\"./train_data_int.csv\"\u001b[0m\u001b[0;34m)\u001b[0m\u001b[0;34m\u001b[0m\u001b[0;34m\u001b[0m\u001b[0m\n\u001b[1;32m     20\u001b[0m \u001b[0;34m\u001b[0m\u001b[0m\n\u001b[0;32m---> 21\u001b[0;31m \u001b[0mtest_data\u001b[0m\u001b[0;34m=\u001b[0m\u001b[0mpd\u001b[0m\u001b[0;34m.\u001b[0m\u001b[0mDataFrame\u001b[0m\u001b[0;34m(\u001b[0m\u001b[0mdata\u001b[0m\u001b[0;34m=\u001b[0m\u001b[0;34m{\u001b[0m\u001b[0;34m\"data_path\"\u001b[0m\u001b[0;34m:\u001b[0m\u001b[0mX_test\u001b[0m\u001b[0;34m}\u001b[0m\u001b[0;34m)\u001b[0m\u001b[0;34m\u001b[0m\u001b[0;34m\u001b[0m\u001b[0m\n\u001b[0m\u001b[1;32m     22\u001b[0m \u001b[0;31m# idx2name=dict()\u001b[0m\u001b[0;34m\u001b[0m\u001b[0;34m\u001b[0m\u001b[0;34m\u001b[0m\u001b[0m\n\u001b[1;32m     23\u001b[0m \u001b[0;34m\u001b[0m\u001b[0m\n",
      "\u001b[0;31mNameError\u001b[0m: name 'X_test' is not defined"
     ]
    }
   ],
   "source": [
    "idx2name=dict()\n",
    "for k,v in all_dict.items():\n",
    "    idx2name[v]=k\n",
    "idx2name\n",
    "idx2name[0]\n",
    "np_lable=np.stack(label)\n",
    "\n",
    "    \n",
    "from sklearn.model_selection import train_test_split  \n",
    "X_train, X_test, y_train, y_test = train_test_split( p, np_lable, test_size=0.2, random_state=42)\n",
    "len(X_train),y_train.shape\n",
    "train_data=pd.DataFrame(data={\"data_path\":X_train})\n",
    "# test_data=pd.DataFrame(data={\"data_path\":X_test,\"lable\":y_test})\n",
    "for i in range(y_train.shape[1]):\n",
    "    train_data[idx2name[i]]=y_train[:,i] \n",
    "    \n",
    "test_data=pd.DataFrame(data={\"data_path\":X_test})\n",
    "# idx2name=dict()\n",
    "\n",
    "# test_data=pd.DataFrame(data={\"data_path\":X_test,\"lable\":y_test})\n",
    "for i in range(y_test.shape[1]):\n",
    "    col_name=idx2name[i]\n",
    "    test_data[col_name]=y_test[:,i]\n",
    "train_data.to_csv(\"./train_data_int.csv\")\n",
    "test_data.to_csv(\"./test_data_int.csv\")"
   ]
  },
  {
   "cell_type": "code",
   "execution_count": 49,
   "metadata": {},
   "outputs": [],
   "source": [
    "a=list(train_data.iloc[0].values[1:])"
   ]
  },
  {
   "cell_type": "code",
   "execution_count": 51,
   "metadata": {},
   "outputs": [
    {
     "data": {
      "text/plain": [
       "0.0"
      ]
     },
     "execution_count": 51,
     "metadata": {},
     "output_type": "execute_result"
    }
   ],
   "source": [
    "a[0]"
   ]
  },
  {
   "cell_type": "code",
   "execution_count": 46,
   "metadata": {},
   "outputs": [
    {
     "data": {
      "text/plain": [
       "1479"
      ]
     },
     "execution_count": 46,
     "metadata": {},
     "output_type": "execute_result"
    }
   ],
   "source": [
    "len(train_data)"
   ]
  },
  {
   "cell_type": "code",
   "execution_count": 93,
   "metadata": {},
   "outputs": [],
   "source": [
    "train_data.to_csv(\"../BDI/train.csv\")\n",
    "test_data.to_csv(\"../BDI/test.csv\")"
   ]
  },
  {
   "cell_type": "code",
   "execution_count": 51,
   "metadata": {},
   "outputs": [],
   "source": [
    "test_list=pd.DataFrame(data={\"data\":res,\"lable\":res2})"
   ]
  },
  {
   "cell_type": "code",
   "execution_count": 52,
   "metadata": {},
   "outputs": [],
   "source": [
    "test_list.to_csv(\"test.csv\")"
   ]
  },
  {
   "cell_type": "code",
   "execution_count": 49,
   "metadata": {},
   "outputs": [],
   "source": [
    "path=\"../../../../kinetics-dataset-main/k400/test/\"\n",
    "res=[]\n",
    "res2=[]\n",
    "for i,j in zip(r1[:1000],r2[:1000]):\n",
    "    pp=os.path.join(path+i)\n",
    "    if os.path.exists(pp):\n",
    "        get_video_container(pp)\n",
    "        res.append(i)\n",
    "        res2.append(j)"
   ]
  },
  {
   "cell_type": "code",
   "execution_count": 50,
   "metadata": {},
   "outputs": [
    {
     "data": {
      "text/plain": [
       "999"
      ]
     },
     "execution_count": 50,
     "metadata": {},
     "output_type": "execute_result"
    }
   ],
   "source": [
    "len(res)"
   ]
  },
  {
   "cell_type": "code",
   "execution_count": 47,
   "metadata": {},
   "outputs": [],
   "source": []
  },
  {
   "cell_type": "code",
   "execution_count": 53,
   "metadata": {},
   "outputs": [],
   "source": [
    "res1=[]\n",
    "res2=[]"
   ]
  },
  {
   "cell_type": "code",
   "execution_count": 56,
   "metadata": {},
   "outputs": [],
   "source": [
    "for p,l in zip(test_list[\"0wR5jVB-WPk.mp4\"],test_list[\"341\"]):\n",
    "    # print(p)\n",
    "    # path=\"../../kinetics-dataset-main/k400/test/\"\n",
    "    path=\"../../../../kinetics-dataset-main/k400/test/\"\n",
    "    if p ==\"f8mC5Ih41Hc.mp4\":\n",
    "        print(\"success\")\n",
    "    # if os.path.exists(path+p):\n",
    "    #     res1.append(p)\n",
    "    #     res2.append(l)\n",
    "    "
   ]
  },
  {
   "cell_type": "code",
   "execution_count": 57,
   "metadata": {},
   "outputs": [
    {
     "ename": "IndexError",
     "evalue": "index 0 is out of bounds for axis 0 with size 0",
     "output_type": "error",
     "traceback": [
      "\u001b[0;31m---------------------------------------------------------------------------\u001b[0m",
      "\u001b[0;31mIndexError\u001b[0m                                Traceback (most recent call last)",
      "\u001b[0;32m/tmp/ipykernel_25157/1191220038.py\u001b[0m in \u001b[0;36m<module>\u001b[0;34m\u001b[0m\n\u001b[1;32m     28\u001b[0m     \u001b[0mcategory_index\u001b[0m \u001b[0;34m=\u001b[0m \u001b[0mofficial_categories\u001b[0m\u001b[0;34m.\u001b[0m\u001b[0miloc\u001b[0m\u001b[0;34m[\u001b[0m\u001b[0;34m:\u001b[0m\u001b[0;34m,\u001b[0m \u001b[0;36m0\u001b[0m\u001b[0;34m]\u001b[0m \u001b[0;34m==\u001b[0m \u001b[0mrename_category\u001b[0m\u001b[0;34m\u001b[0m\u001b[0;34m\u001b[0m\u001b[0m\n\u001b[1;32m     29\u001b[0m     \u001b[0mcategory_row\u001b[0m \u001b[0;34m=\u001b[0m \u001b[0mofficial_categories\u001b[0m\u001b[0;34m[\u001b[0m\u001b[0mcategory_index\u001b[0m\u001b[0;34m]\u001b[0m\u001b[0;34m\u001b[0m\u001b[0;34m\u001b[0m\u001b[0m\n\u001b[0;32m---> 30\u001b[0;31m     \u001b[0mlabel\u001b[0m \u001b[0;34m=\u001b[0m \u001b[0mcategory_row\u001b[0m\u001b[0;34m.\u001b[0m\u001b[0miloc\u001b[0m\u001b[0;34m[\u001b[0m\u001b[0;34m:\u001b[0m\u001b[0;34m,\u001b[0m \u001b[0;36m1\u001b[0m\u001b[0;34m]\u001b[0m\u001b[0;34m.\u001b[0m\u001b[0mvalues\u001b[0m\u001b[0;34m[\u001b[0m\u001b[0;36m0\u001b[0m\u001b[0;34m]\u001b[0m\u001b[0;34m\u001b[0m\u001b[0;34m\u001b[0m\u001b[0m\n\u001b[0m\u001b[1;32m     31\u001b[0m     \u001b[0mfiles_path\u001b[0m \u001b[0;34m=\u001b[0m \u001b[0mval_path\u001b[0m \u001b[0;34m+\u001b[0m \u001b[0mcategory\u001b[0m\u001b[0;34m\u001b[0m\u001b[0;34m\u001b[0m\u001b[0m\n\u001b[1;32m     32\u001b[0m     \u001b[0mfiles\u001b[0m \u001b[0;34m=\u001b[0m \u001b[0mos\u001b[0m\u001b[0;34m.\u001b[0m\u001b[0mlistdir\u001b[0m\u001b[0;34m(\u001b[0m\u001b[0mfiles_path\u001b[0m\u001b[0;34m)\u001b[0m\u001b[0;34m\u001b[0m\u001b[0;34m\u001b[0m\u001b[0m\n",
      "\u001b[0;31mIndexError\u001b[0m: index 0 is out of bounds for axis 0 with size 0"
     ]
    }
   ],
   "source": [
    "import os\n",
    "import pandas as pd\n",
    "import numpy as np\n",
    "import shutil\n",
    " \n",
    "test_name = []\n",
    "test_label = []\n",
    "# 要保存的test.csv和kinetics_400_categroies.txt路径\n",
    "test_csv_path = \"./test1.csv\"\n",
    "cate_csv_path = \"./kinetics_400_categroies1.txt\"\n",
    " \n",
    "# 官方下载的kinetics_400_categroies.txt路径\n",
    "official_categories_path = \"./kinetics_400_categroies.txt\"\n",
    "official_categories = pd.read_csv(official_categories_path, sep='\\t', header=None)\n",
    " \n",
    "# 验证集的路径\n",
    "val_path =\"../../../../kinetics-dataset-main/k400/test/\"\n",
    "\n",
    "categories = os.listdir(val_path)\n",
    " \n",
    "# 这两个变量是为了统计文件数目是否对得上\n",
    "count_category = 0\n",
    "count_files = 0\n",
    " \n",
    "# 这边的操作都差不多是：列出文件夹下的文件，遍历，根据kinetics_400_categroies.txt和视频名生成test.csv\n"
   ]
  },
  {
   "cell_type": "code",
   "execution_count": 64,
   "metadata": {},
   "outputs": [],
   "source": [
    "categories=pd.read_csv(\"../../../../kinetics-dataset-main/k400/annotations/test.csv\")"
   ]
  },
  {
   "cell_type": "code",
   "execution_count": 1,
   "metadata": {},
   "outputs": [
    {
     "ename": "NameError",
     "evalue": "name 'categories' is not defined",
     "output_type": "error",
     "traceback": [
      "\u001b[0;31m---------------------------------------------------------------------------\u001b[0m",
      "\u001b[0;31mNameError\u001b[0m                                 Traceback (most recent call last)",
      "\u001b[0;32m/tmp/ipykernel_10519/3109564827.py\u001b[0m in \u001b[0;36m<module>\u001b[0;34m\u001b[0m\n\u001b[0;32m----> 1\u001b[0;31m \u001b[0mkeys_category\u001b[0m\u001b[0;34m=\u001b[0m\u001b[0;34m(\u001b[0m\u001b[0mset\u001b[0m\u001b[0;34m(\u001b[0m\u001b[0mcategories\u001b[0m\u001b[0;34m[\u001b[0m\u001b[0;34m\"label\"\u001b[0m\u001b[0;34m]\u001b[0m\u001b[0;34m)\u001b[0m\u001b[0;34m)\u001b[0m\u001b[0;34m\u001b[0m\u001b[0;34m\u001b[0m\u001b[0m\n\u001b[0m",
      "\u001b[0;31mNameError\u001b[0m: name 'categories' is not defined"
     ]
    }
   ],
   "source": [
    "keys_category=(set(categories[\"label\"]))"
   ]
  },
  {
   "cell_type": "code",
   "execution_count": 71,
   "metadata": {},
   "outputs": [],
   "source": [
    "keys_category=list(keys_category)"
   ]
  },
  {
   "cell_type": "code",
   "execution_count": 74,
   "metadata": {},
   "outputs": [],
   "source": [
    "key_old=official_categories[0]"
   ]
  },
  {
   "cell_type": "code",
   "execution_count": 77,
   "metadata": {},
   "outputs": [],
   "source": [
    "c2idx=dict()\n",
    "for k,v in zip(official_categories[0],official_categories[1]):\n",
    "    c2idx[k]=v\n",
    "    "
   ]
  },
  {
   "cell_type": "code",
   "execution_count": 79,
   "metadata": {},
   "outputs": [],
   "source": [
    "val_path =\"../../../../kinetics-dataset-main/k400/test/\"\n",
    "\n",
    "video_paths = os.listdir(val_path)"
   ]
  },
  {
   "cell_type": "code",
   "execution_count": 80,
   "metadata": {},
   "outputs": [
    {
     "data": {
      "text/plain": [
       "'HQKplHRagi4_000068_000078.mp4'"
      ]
     },
     "execution_count": 80,
     "metadata": {},
     "output_type": "execute_result"
    }
   ],
   "source": [
    "video_paths[0]"
   ]
  },
  {
   "cell_type": "code",
   "execution_count": null,
   "metadata": {},
   "outputs": [],
   "source": [
    "for p in video_paths:\n",
    "    id=p.split(\".\")[0]\n",
    "    indx=categories.iloc[:,1]==id\n",
    "    videoitem = official_categories[indx]\n",
    "    label = videoitem.iloc[:, 0].values[0]\n",
    "    "
   ]
  },
  {
   "cell_type": "code",
   "execution_count": 61,
   "metadata": {},
   "outputs": [
    {
     "name": "stdout",
     "output_type": "stream",
     "text": [
      "HQKplHRagi4_000068_000078.mp4\n",
      "Empty DataFrame\n",
      "Columns: [0, 1]\n",
      "Index: []\n"
     ]
    },
    {
     "ename": "IndexError",
     "evalue": "index 0 is out of bounds for axis 0 with size 0",
     "output_type": "error",
     "traceback": [
      "\u001b[0;31m---------------------------------------------------------------------------\u001b[0m",
      "\u001b[0;31mIndexError\u001b[0m                                Traceback (most recent call last)",
      "\u001b[0;32m/tmp/ipykernel_25157/2202312931.py\u001b[0m in \u001b[0;36m<module>\u001b[0;34m\u001b[0m\n\u001b[1;32m      5\u001b[0m     \u001b[0mprint\u001b[0m\u001b[0;34m(\u001b[0m\u001b[0mcategory\u001b[0m\u001b[0;34m)\u001b[0m\u001b[0;34m\u001b[0m\u001b[0;34m\u001b[0m\u001b[0m\n\u001b[1;32m      6\u001b[0m     \u001b[0mprint\u001b[0m\u001b[0;34m(\u001b[0m\u001b[0mcategory_row\u001b[0m\u001b[0;34m)\u001b[0m\u001b[0;34m\u001b[0m\u001b[0;34m\u001b[0m\u001b[0m\n\u001b[0;32m----> 7\u001b[0;31m     \u001b[0mlabel\u001b[0m \u001b[0;34m=\u001b[0m \u001b[0mcategory_row\u001b[0m\u001b[0;34m.\u001b[0m\u001b[0miloc\u001b[0m\u001b[0;34m[\u001b[0m\u001b[0;34m:\u001b[0m\u001b[0;34m,\u001b[0m \u001b[0;36m1\u001b[0m\u001b[0;34m]\u001b[0m\u001b[0;34m.\u001b[0m\u001b[0mvalues\u001b[0m\u001b[0;34m[\u001b[0m\u001b[0;36m0\u001b[0m\u001b[0;34m]\u001b[0m\u001b[0;34m\u001b[0m\u001b[0;34m\u001b[0m\u001b[0m\n\u001b[0m\u001b[1;32m      8\u001b[0m     \u001b[0mfiles_path\u001b[0m \u001b[0;34m=\u001b[0m \u001b[0mval_path\u001b[0m \u001b[0;34m+\u001b[0m \u001b[0mcategory\u001b[0m\u001b[0;34m\u001b[0m\u001b[0;34m\u001b[0m\u001b[0m\n\u001b[1;32m      9\u001b[0m     \u001b[0mfiles\u001b[0m \u001b[0;34m=\u001b[0m \u001b[0mos\u001b[0m\u001b[0;34m.\u001b[0m\u001b[0mlistdir\u001b[0m\u001b[0;34m(\u001b[0m\u001b[0mfiles_path\u001b[0m\u001b[0;34m)\u001b[0m\u001b[0;34m\u001b[0m\u001b[0;34m\u001b[0m\u001b[0m\n",
      "\u001b[0;31mIndexError\u001b[0m: index 0 is out of bounds for axis 0 with size 0"
     ]
    }
   ],
   "source": [
    "for category in categories:\n",
    "    rename_category = category.replace('_', ' ')\n",
    "    category_index = official_categories.iloc[:, 0] == rename_category\n",
    "    category_row = official_categories[category_index]\n",
    "    \n",
    "    label = category_row.iloc[:, 1].values[0]\n",
    "    files_path = val_path + category\n",
    "    files = os.listdir(files_path)\n",
    "    count_category += 1\n",
    "    for file in files:\n",
    "        test_name.append(file)\n",
    "        test_label.append(label)\n",
    "        count_files += 1\n",
    "\n",
    "\n"
   ]
  },
  {
   "cell_type": "code",
   "execution_count": 81,
   "metadata": {},
   "outputs": [
    {
     "data": {
      "text/plain": [
       "Index(['label', 'youtube_id', 'time_start', 'time_end', 'split', 'is_cc'], dtype='object')"
      ]
     },
     "execution_count": 81,
     "metadata": {},
     "output_type": "execute_result"
    }
   ],
   "source": []
  },
  {
   "cell_type": "code",
   "execution_count": null,
   "metadata": {},
   "outputs": [],
   "source": [
    "df_test = pd.DataFrame()\n",
    "df_test[\"file_name\"] = test_name\n",
    "df_test[\"file_label\"] = test_label\n",
    " \n",
    "official_categories.to_csv(cate_csv_path, sep='\\t',index=False,header=None)\n",
    "df_test.to_csv(test_csv_path, sep=',', index=False,header=None)\n",
    "print(count_category)\n",
    "print(count_files)\n",
    " \n",
    "# 把所有视频移到一个文件夹下面（反正这些操作都是为了符合官方提供的标签等）\n",
    "test = \"./test/\"\n",
    "for category in categories:\n",
    " \n",
    "    filelist = os.listdir(val_path+category)  # 列出该目录下的所有文件,listdir返回的文件列表是不包含路径的。\n",
    "    for file in filelist:\n",
    "        src = val_path + category +'/' + file\n",
    "        dst = test + file\n",
    "        shutil.move(src, dst)"
   ]
  },
  {
   "cell_type": "code",
   "execution_count": 55,
   "metadata": {},
   "outputs": [
    {
     "data": {
      "text/plain": [
       "[]"
      ]
     },
     "execution_count": 55,
     "metadata": {},
     "output_type": "execute_result"
    }
   ],
   "source": [
    "with open(\"./kinetics_400_categroies.txt\") as f:\n",
    "    for "
   ]
  }
 ],
 "metadata": {
  "kernelspec": {
   "display_name": "Python 3 (ipykernel)",
   "language": "python",
   "name": "python3"
  },
  "language_info": {
   "codemirror_mode": {
    "name": "ipython",
    "version": 3
   },
   "file_extension": ".py",
   "mimetype": "text/x-python",
   "name": "python",
   "nbconvert_exporter": "python",
   "pygments_lexer": "ipython3",
   "version": "3.7.13"
  },
  "vscode": {
   "interpreter": {
    "hash": "3f62fab7e69d4f2a517319590d4323119d93861995f1c6bcb938f48c0b359eef"
   }
  }
 },
 "nbformat": 4,
 "nbformat_minor": 2
}
